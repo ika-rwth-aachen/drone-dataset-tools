{
 "cells": [
  {
   "cell_type": "markdown",
   "id": "c5569064-7634-4fdb-b4ef-1fd165108e2b",
   "metadata": {},
   "source": [
    "# TO RUN\n",
    "1. Make sure you installed all the dependencies\n",
    "2. open **'init_notebook.py'** and change the **projectFolder** to the src folder of the repository.\n",
    "3. In the following cell change the dataDir to the data directory of the InD dataset"
   ]
  },
  {
   "cell_type": "code",
   "execution_count": 1,
   "id": "796867f4-aa89-478d-967d-7f102ca67ef1",
   "metadata": {},
   "outputs": [
    {
     "name": "stdout",
     "output_type": "stream",
     "text": [
      "current working dirE:\\AV\\DataSetExploration\\drone-dataset-tools\\src\n"
     ]
    }
   ],
   "source": [
    "exec(open('init_notebook.py').read())"
   ]
  },
  {
   "cell_type": "code",
   "execution_count": 2,
   "id": "42d4c61f-d3f1-4438-9ea0-12359a842b38",
   "metadata": {},
   "outputs": [],
   "source": [
    "%load_ext autoreload\n",
    "%autoreload 2"
   ]
  },
  {
   "cell_type": "markdown",
   "id": "f4032004-0d94-4fdb-a230-62ec517d52df",
   "metadata": {},
   "source": [
    "import logging\n",
    "logging.basicConfig(level=logging.INFO)\n",
    "from loguru import logger\n",
    "logger.remove()\n",
    "logger.add(sys.stdout, format=\"{level} {message}\", filter=\"my_module\", level=\"INFO\")"
   ]
  },
  {
   "cell_type": "code",
   "execution_count": 4,
   "id": "aacdb811-bc74-4f9e-8316-6fd8afee8233",
   "metadata": {},
   "outputs": [],
   "source": [
    "# Unit tests on preprocessed scene data of location 2"
   ]
  },
  {
   "cell_type": "code",
   "execution_count": 5,
   "id": "fe5744c4-0787-48f0-97c5-9d90dcee95e9",
   "metadata": {},
   "outputs": [],
   "source": [
    "from extractors.LocationData import LocationData\n",
    "scene10 = LocationData.load(\"../data/location-2\", \"2022-11-13-fps-2.5-scene-10.dll\")"
   ]
  },
  {
   "cell_type": "code",
   "execution_count": 15,
   "id": "97a3a6dc-38a6-424b-a9ad-41466369654a",
   "metadata": {},
   "outputs": [],
   "source": [
    "allPedDfs = scene10.getClippedPedDfs()\n",
    "otherDfs = scene10.getClippedOtherDfs()\n",
    "allPedIds = scene10.uniqueClippedPedIds()\n",
    "allOtherIds = scene10.uniqueClippedOtherIds()\n",
    "\n",
    "# pedClasses = allPedDfs['class'].unique()\n",
    "otherClasses = otherDfs['class'].unique()"
   ]
  },
  {
   "cell_type": "code",
   "execution_count": 13,
   "id": "4e37783c-15d9-4c5b-9824-2062dcd10eb0",
   "metadata": {},
   "outputs": [],
   "source": [
    "assert len(otherClasses) > 1\n",
    "assert 'pedestrian' not in otherClasses"
   ]
  },
  {
   "cell_type": "code",
   "execution_count": 16,
   "id": "af39dc2d-60cd-4ac0-873f-df716d4070eb",
   "metadata": {},
   "outputs": [],
   "source": [
    "assert allPedIds == allPedDfs[\"uniqueTrackId\"].unique()\n",
    "assert allOtherIds == otherDfs[\"uniqueTrackId\"].unique()"
   ]
  },
  {
   "cell_type": "code",
   "execution_count": 91,
   "id": "a66a1f63-885a-40be-8438-9fef3e369457",
   "metadata": {},
   "outputs": [
    {
     "data": {
      "text/plain": [
       "18023"
      ]
     },
     "execution_count": 91,
     "metadata": {},
     "output_type": "execute_result"
    }
   ],
   "source": [
    "primaryPedId = allPedIds[0]\n",
    "primaryDf = scene10.getClippedPedDfByUniqueTrackId(primaryPedId).copy()\n",
    "primaryPedId"
   ]
  },
  {
   "cell_type": "code",
   "execution_count": 92,
   "id": "8c43f2a4-6cb5-4c22-b5ea-572c5006d431",
   "metadata": {},
   "outputs": [],
   "source": [
    "from extractors.PedScenarioBuilder import PedScenarioBuilder\n",
    "scenarioBuilder = PedScenarioBuilder()"
   ]
  },
  {
   "cell_type": "code",
   "execution_count": 93,
   "id": "67b19d18-de4e-43c5-a01a-2758a445ec4f",
   "metadata": {},
   "outputs": [],
   "source": [
    "recordingId, start, end, roadWidth = scenarioBuilder.getRecordStartEndWidth(primaryDf)"
   ]
  },
  {
   "cell_type": "code",
   "execution_count": 94,
   "id": "bc38ab68-a230-4d03-b6d0-1d43710198ed",
   "metadata": {},
   "outputs": [],
   "source": [
    "assert primaryDf[\"frame\"].min() == start\n",
    "assert primaryDf[\"frame\"].max() == end\n",
    "assert len(primaryDf[\"recordingId\"].unique()) == 1\n",
    "assert primaryDf[\"recordingId\"].unique()[0] == recordingId\n",
    "assert len(primaryDf[\"roadWidth\"].unique()) == 1\n",
    "assert primaryDf[\"roadWidth\"].unique()[-1] == roadWidth"
   ]
  },
  {
   "cell_type": "code",
   "execution_count": 96,
   "id": "dc325a53-f28d-4ca5-bac8-627baea6e6d7",
   "metadata": {},
   "outputs": [],
   "source": [
    "anotherDf = otherDfs[otherDfs['uniqueTrackId'] == allOtherIds[0]]"
   ]
  },
  {
   "cell_type": "code",
   "execution_count": 104,
   "id": "09f0c6d9-5edf-4e6d-bb92-83ed440c5fa9",
   "metadata": {},
   "outputs": [],
   "source": [
    "scenePeds = {}\n",
    "\n",
    "scenePeds[18107] = [18112] #6593 6723\n",
    "scenePeds[18112] = [18107]\n",
    "scenePeds[18127] = [18134]\n",
    "scenePeds[18134] = [18127]\n"
   ]
  },
  {
   "cell_type": "code",
   "execution_count": 105,
   "id": "4616a7d2-986c-4ade-9570-5d0fe674cb0c",
   "metadata": {},
   "outputs": [],
   "source": [
    "# scenarioBuilder.printSceneStats(scene10)"
   ]
  },
  {
   "cell_type": "code",
   "execution_count": 109,
   "id": "908bde65-8d9a-49eb-a42d-35cb6deae86d",
   "metadata": {},
   "outputs": [],
   "source": [
    "\n",
    "for primaryPedId in scenePeds:\n",
    "    primaryDf = scene10.getClippedPedDfByUniqueTrackId(primaryPedId).copy()\n",
    "    recordingId, start, end, roadWidth = scenarioBuilder.getRecordStartEndWidth(primaryDf)\n",
    "    scenarioPedTracks = scenarioBuilder.getOtherPedScenarioTracksFromScene(\n",
    "        primaryDf = primaryDf,\n",
    "        allPedDfs=allPedDfs,\n",
    "        recordingId = recordingId,\n",
    "        start=start,\n",
    "        end=end\n",
    "    )\n",
    "    # print(\"primaryPedId\", primaryPedId)\n",
    "    # print(scenePeds[primaryPedId])\n",
    "    # print(scenarioPedTracks[\"uniqueTrackId\"].unique())\n",
    "    assert scenarioPedTracks[\"uniqueTrackId\"].unique() == scenePeds[primaryPedId];\n",
    "    assert len(scenarioPedTracks[\"uniqueTrackId\"].unique()) == len(scenePeds[primaryPedId]);"
   ]
  },
  {
   "cell_type": "code",
   "execution_count": 112,
   "id": "f434069e-5442-4299-9209-10374b40cdbb",
   "metadata": {},
   "outputs": [
    {
     "name": "stdout",
     "output_type": "stream",
     "text": [
      "primaryPedId 18107\n",
      "<IntegerArray>\n",
      "[18111, 18113, 18105]\n",
      "Length: 3, dtype: Int64\n",
      "primaryPedId 18112\n",
      "<IntegerArray>\n",
      "[18111, 18113, 18105]\n",
      "Length: 3, dtype: Int64\n",
      "primaryPedId 18127\n",
      "<IntegerArray>\n",
      "[]\n",
      "Length: 0, dtype: Int64\n",
      "primaryPedId 18134\n",
      "<IntegerArray>\n",
      "[]\n",
      "Length: 0, dtype: Int64\n"
     ]
    }
   ],
   "source": [
    "\n",
    "for primaryPedId in scenePeds:\n",
    "    primaryDf = scene10.getClippedPedDfByUniqueTrackId(primaryPedId).copy()\n",
    "    recordingId, start, end, roadWidth = scenarioBuilder.getRecordStartEndWidth(primaryDf)\n",
    "    scenarioOtherTracks = scenarioBuilder.getOtherScenarioTracksFromScene(\n",
    "        otherSceneDf=otherDfs,\n",
    "        recordingId = recordingId,\n",
    "        start=start,\n",
    "        end=end\n",
    "    )\n",
    "    print(\"primaryPedId\", primaryPedId)\n",
    "    print(scenarioOtherTracks[\"uniqueTrackId\"].unique())"
   ]
  },
  {
   "cell_type": "code",
   "execution_count": null,
   "id": "9c22bc87-374b-4e50-aebe-38a54791f2a2",
   "metadata": {},
   "outputs": [],
   "source": []
  }
 ],
 "metadata": {
  "kernelspec": {
   "display_name": "Python 3",
   "language": "python",
   "name": "python3"
  },
  "language_info": {
   "codemirror_mode": {
    "name": "ipython",
    "version": 3
   },
   "file_extension": ".py",
   "mimetype": "text/x-python",
   "name": "python",
   "nbconvert_exporter": "python",
   "pygments_lexer": "ipython3",
   "version": "3.6.15"
  }
 },
 "nbformat": 4,
 "nbformat_minor": 5
}

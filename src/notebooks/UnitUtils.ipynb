{
 "cells": [
  {
   "cell_type": "code",
   "execution_count": 2,
   "id": "f345ad05-0031-4c65-9aa4-fa63654c2bf0",
   "metadata": {
    "tags": []
   },
   "outputs": [
    {
     "name": "stdout",
     "output_type": "stream",
     "text": [
      "current working dir/Users/zarifikram/Documents/Repos/drone-dataset-tools/src\n"
     ]
    }
   ],
   "source": [
    "exec(open('init_notebook.py').read())"
   ]
  },
  {
   "cell_type": "code",
   "execution_count": 3,
   "id": "64899559-d08a-4188-8622-552f54f5b9a3",
   "metadata": {
    "tags": []
   },
   "outputs": [],
   "source": [
    "%load_ext autoreload\n",
    "%autoreload 2"
   ]
  },
  {
   "cell_type": "code",
   "execution_count": 4,
   "id": "db5308cb-23e3-43ab-8c4f-6bff9ce5d705",
   "metadata": {
    "tags": []
   },
   "outputs": [],
   "source": [
    "from tools.UnitUtils import UnitUtils\n",
    "orthoPxToMeter = 0.00814635379575616"
   ]
  },
  {
   "cell_type": "code",
   "execution_count": 11,
   "id": "aa26e102-8457-4f48-84bf-d15cbcd662ed",
   "metadata": {
    "tags": []
   },
   "outputs": [
    {
     "name": "stdout",
     "output_type": "stream",
     "text": [
      "(58.292100179468086, -51.156865579267894)\n"
     ]
    }
   ],
   "source": [
    "print(UnitUtils.InDPixelToCoordinate((596.30, 523.31), orthoPxToMeter))"
   ]
  },
  {
   "cell_type": "code",
   "execution_count": 5,
   "id": "cad4178c-d69a-4b9d-bdf7-395b2d8b189f",
   "metadata": {},
   "outputs": [
    {
     "name": "stdout",
     "output_type": "stream",
     "text": [
      "{'2': {'1': {'centerXPixel': 628.5, 'centerYPixel': 286.5, 'centerX': 61.44, 'centerY': -28.01, 'angle': 12.17, 'roadWidth': 5.0, 'boxWidth': 10.0}, '11': {'centerXPixel': 628.5, 'centerYPixel': 286.5, 'centerX': 61.44, 'centerY': -28.01, 'angle': 12.17, 'roadWidth': 5.0, 'boxWidth': 10.0}, '2': {'centerXPixel': 383.5, 'centerYPixel': 322.5, 'centerX': 37.49, 'centerY': -31.53, 'angle': 16.0, 'roadWidth': 6.0, 'boxWidth': 15.0}, '3': {'centerXPixel': 490.5, 'centerYPixel': 392.5, 'centerX': 47.95, 'centerY': -38.36, 'angle': 111.79, 'roadWidth': 6.0, 'boxWidth': 15.0}, '4': {'centerXPixel': 450.5, 'centerYPixel': 180.5, 'centerX': 44.04, 'centerY': -17.64, 'angle': 134.74, 'roadWidth': 6.0, 'boxWidth': 10.0}, '5': {'centerXPixel': 188.5, 'centerYPixel': 375.5, 'centerX': 18.43, 'centerY': -36.71, 'angle': 16.0, 'roadWidth': 9.0, 'boxWidth': 20.0}, '6': {'centerXPixel': 518.5, 'centerYPixel': 461.5, 'centerX': 50.67, 'centerY': -45.11, 'angle': 111.79, 'roadWidth': 6.0, 'boxWidth': 10.0}}}\n"
     ]
    }
   ],
   "source": [
    "print(UnitUtils.loadSceneConfiguration())"
   ]
  },
  {
   "cell_type": "code",
   "execution_count": null,
   "id": "a2f4fcaa-3026-432e-9a6a-82e83cdcae6d",
   "metadata": {},
   "outputs": [],
   "source": []
  }
 ],
 "metadata": {
  "kernelspec": {
   "display_name": "Python 3 (ipykernel)",
   "language": "python",
   "name": "python3"
  },
  "language_info": {
   "codemirror_mode": {
    "name": "ipython",
    "version": 3
   },
   "file_extension": ".py",
   "mimetype": "text/x-python",
   "name": "python",
   "nbconvert_exporter": "python",
   "pygments_lexer": "ipython3",
   "version": "3.8.12"
  }
 },
 "nbformat": 4,
 "nbformat_minor": 5
}

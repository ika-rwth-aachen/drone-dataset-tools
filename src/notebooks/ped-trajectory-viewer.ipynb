{
 "cells": [
  {
   "cell_type": "markdown",
   "id": "5877ce72-2bfc-47bb-8905-139dcdb4f50f",
   "metadata": {},
   "source": [
    "# TO RUN\n",
    "1. Make sure you installed all the dependencies\n",
    "2. open **'init_notebook.py'** and change the **projectFolder** to the src folder of the repository.\n",
    "3. In the following cell change the dataDir to the data directory of the InD dataset"
   ]
  },
  {
   "cell_type": "code",
   "execution_count": 1,
   "id": "3c5d05b9-0c6b-4755-b44f-b98b83078435",
   "metadata": {},
   "outputs": [],
   "source": [
    "dataDir = \"G:AV datasets/inD-dataset-v1.0/data/\""
   ]
  },
  {
   "cell_type": "code",
   "execution_count": 2,
   "id": "268e0c2b-284d-4ce2-96ab-416f03b98458",
   "metadata": {},
   "outputs": [
    {
     "ename": "FileNotFoundError",
     "evalue": "[WinError 3] The system cannot find the path specified: 'D:/AV/DataSetExploration/drone-dataset-tools/src'",
     "output_type": "error",
     "traceback": [
      "\u001b[1;31m---------------------------------------------------------------------------\u001b[0m",
      "\u001b[1;31mFileNotFoundError\u001b[0m                         Traceback (most recent call last)",
      "\u001b[1;32m<ipython-input-2-7fe12250716c>\u001b[0m in \u001b[0;36m<module>\u001b[1;34m\u001b[0m\n\u001b[1;32m----> 1\u001b[1;33m \u001b[0mexec\u001b[0m\u001b[1;33m(\u001b[0m\u001b[0mopen\u001b[0m\u001b[1;33m(\u001b[0m\u001b[1;34m'init_notebook.py'\u001b[0m\u001b[1;33m)\u001b[0m\u001b[1;33m.\u001b[0m\u001b[0mread\u001b[0m\u001b[1;33m(\u001b[0m\u001b[1;33m)\u001b[0m\u001b[1;33m)\u001b[0m\u001b[1;33m\u001b[0m\u001b[1;33m\u001b[0m\u001b[0m\n\u001b[0m",
      "\u001b[1;32m<string>\u001b[0m in \u001b[0;36m<module>\u001b[1;34m\u001b[0m\n",
      "\u001b[1;31mFileNotFoundError\u001b[0m: [WinError 3] The system cannot find the path specified: 'D:/AV/DataSetExploration/drone-dataset-tools/src'"
     ]
    }
   ],
   "source": [
    "exec(open('init_notebook.py').read())"
   ]
  },
  {
   "cell_type": "code",
   "execution_count": 2,
   "id": "1bfc6175-a463-4c1e-b918-7536fd9100a6",
   "metadata": {},
   "outputs": [],
   "source": [
    "%load_ext autoreload\n",
    "%autoreload 2"
   ]
  },
  {
   "cell_type": "code",
   "execution_count": 3,
   "id": "b2fbd1f7-3876-436e-bd97-ce2eb261ad11",
   "metadata": {},
   "outputs": [],
   "source": [
    "from extractors.loader import Loader\n",
    "from tools.TrajectoryVisualizer import TrajectoryVisualizer\n"
   ]
  },
  {
   "cell_type": "code",
   "execution_count": 6,
   "id": "bc1b82bb-9e84-472e-8001-4cdec3af3c48",
   "metadata": {},
   "outputs": [
    {
     "data": {
      "text/plain": [
       "SortedList([2, 17, 19, 20, 26, 31, 33, 34, 35, 37, 38, 39, 40, 41, 42, 45, 47, 49, 53, 55, 56, 57, 59, 60, 63, 70, 71, 72, 74, 75, 81, 86, 88, 90, 93, 94, 96, 103, 110, 112, 117, 121, 125, 132, 133, 135, 140, 147, 149, 150, 153, 157, 158, 160, 161, 163, 167, 168, 177, 178, 180, 187, 188, 194, 197, 198, 199, 203, 204, 205, 211, 212, 214, 219, 222, 224, 225, 232, 233, 235, 236, 238, 240, 242, 243, 244, 247, 249, 264, 265, 267, 274, 275, 281, 282, 283, 288, 289, 291, 293, 295, 296, 302, 304, 312, 320, 327, 331, 335, 337, 338, 339, 340, 341, 343, 346, 349, 352, 353, 356, 362, 365])"
      ]
     },
     "execution_count": 6,
     "metadata": {},
     "output_type": "execute_result"
    }
   ],
   "source": [
    "loader = Loader(dataDir, 'inD')\n",
    "recordingId = '19'\n",
    "recordingData = loader.getRecordingData(recordingId)\n",
    "loader.getSortedPedIds(recordingData.tracksMetaDf)"
   ]
  },
  {
   "cell_type": "markdown",
   "id": "81d52c95-50a1-4748-a02f-bf3316673f8a",
   "metadata": {},
   "source": [
    "## Visualising all pedestrian tracks\n",
    "\n",
    "```\n",
    "recordingData = loader.getRecordingData(recordingId)\n",
    "visualizer = TrajectoryVisualizer(loader)\n",
    "for pedId in loader.getSortedPedIds(tracksMetaDf):\n",
    "    visualizer.showTrack(recordingId, pedId)\n",
    "```\n",
    "\n",
    "## Visualising all crossing pedestrian tracks\n",
    "\n",
    "```\n",
    "recordingData = loader.getRecordingData(recordingId)\n",
    "visualizer = TrajectoryVisualizer(loader)\n",
    "for pedId in recordingData.getCrossingPedIds(tracksMetaDf):\n",
    "    visualizer.showTrack(recordingId, pedId)\n",
    "```"
   ]
  },
  {
   "cell_type": "code",
   "execution_count": 1,
   "id": "1fe4edb2-18e3-44e8-894e-35c45fb98cbc",
   "metadata": {
    "tags": []
   },
   "outputs": [
    {
     "ename": "NameError",
     "evalue": "name 'TrajectoryVisualizer' is not defined",
     "output_type": "error",
     "traceback": [
      "\u001b[0;31m---------------------------------------------------------------------------\u001b[0m",
      "\u001b[0;31mNameError\u001b[0m                                 Traceback (most recent call last)",
      "Cell \u001b[0;32mIn[1], line 5\u001b[0m\n\u001b[1;32m      1\u001b[0m \u001b[38;5;66;03m# visualizer = TrajectoryVisualizer(loader)\u001b[39;00m\n\u001b[1;32m      2\u001b[0m \u001b[38;5;66;03m# for pedId in recordingData.getPedIds():\u001b[39;00m\n\u001b[1;32m      3\u001b[0m \u001b[38;5;66;03m#     visualizer.showTrack(recordingData.tracksDf, recordingData.recordingMeta, pedId)\u001b[39;00m\n\u001b[0;32m----> 5\u001b[0m visualizer \u001b[38;5;241m=\u001b[39m \u001b[43mTrajectoryVisualizer\u001b[49m(loader)\n\u001b[1;32m      6\u001b[0m \u001b[38;5;28;01mfor\u001b[39;00m pedId \u001b[38;5;129;01min\u001b[39;00m recordingData\u001b[38;5;241m.\u001b[39mgetCrossingPedIds():\n\u001b[1;32m      7\u001b[0m     visualizer\u001b[38;5;241m.\u001b[39mshowTrack(recordingData\u001b[38;5;241m.\u001b[39mtracksDf, recordingData\u001b[38;5;241m.\u001b[39mrecordingMeta, pedId)\n",
      "\u001b[0;31mNameError\u001b[0m: name 'TrajectoryVisualizer' is not defined"
     ]
    }
   ],
   "source": [
    "# visualizer = TrajectoryVisualizer(loader)\n",
    "# for pedId in recordingData.getPedIds():\n",
    "#     visualizer.showTrack(recordingData.tracksDf, recordingData.recordingMeta, pedId)\n",
    "\n",
    "visualizer = TrajectoryVisualizer(loader)\n",
    "for pedId in recordingData.getCrossingPedIds():\n",
    "    visualizer.showTrack(recordingData.tracksDf, recordingData.recordingMeta, pedId)\n"
   ]
  },
  {
   "cell_type": "code",
   "execution_count": null,
   "id": "6f248e84-43bb-4556-934e-1166bf30a13c",
   "metadata": {},
   "outputs": [],
   "source": []
  },
  {
   "cell_type": "code",
   "execution_count": null,
   "id": "fc6dcf10-3f5f-48ab-886c-7bb07682af90",
   "metadata": {},
   "outputs": [],
   "source": []
  },
  {
   "cell_type": "code",
   "execution_count": null,
   "id": "791aab66-bd03-459d-b2a5-ffa97786a52b",
   "metadata": {},
   "outputs": [],
   "source": []
  },
  {
   "cell_type": "code",
   "execution_count": null,
   "id": "f22b8fb4-3410-4f9b-9c95-4d379e5795b2",
   "metadata": {},
   "outputs": [],
   "source": []
  }
 ],
 "metadata": {
  "kernelspec": {
   "display_name": "Python 3 (ipykernel)",
   "language": "python",
   "name": "python3"
  },
  "language_info": {
   "codemirror_mode": {
    "name": "ipython",
    "version": 3
   },
   "file_extension": ".py",
   "mimetype": "text/x-python",
   "name": "python",
   "nbconvert_exporter": "python",
   "pygments_lexer": "ipython3",
   "version": "3.8.12"
  }
 },
 "nbformat": 4,
 "nbformat_minor": 5
}

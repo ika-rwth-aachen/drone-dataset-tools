{
 "cells": [
  {
   "cell_type": "markdown",
   "id": "caf531b4-85d6-49bb-8296-a97e23df44f5",
   "metadata": {},
   "source": [
    "# TO RUN\n",
    "1. Make sure you installed all the dependencies\n",
    "2. open **'init_notebook.py'** and change the **projectFolder** to the src folder of the repository.\n",
    "3. In the following cell change the dataDir to the data directory of the InD dataset"
   ]
  },
  {
   "cell_type": "code",
   "execution_count": 7,
   "id": "29eff41d-ec06-49c6-a107-e1c5dd7a37de",
   "metadata": {},
   "outputs": [
    {
     "ename": "FileNotFoundError",
     "evalue": "[Errno 2] No such file or directory: 'init_notebook.py'",
     "output_type": "error",
     "traceback": [
      "\u001b[1;31m---------------------------------------------------------------------------\u001b[0m",
      "\u001b[1;31mFileNotFoundError\u001b[0m                         Traceback (most recent call last)",
      "\u001b[1;32m<ipython-input-7-7fe12250716c>\u001b[0m in \u001b[0;36m<module>\u001b[1;34m\u001b[0m\n\u001b[1;32m----> 1\u001b[1;33m \u001b[0mexec\u001b[0m\u001b[1;33m(\u001b[0m\u001b[0mopen\u001b[0m\u001b[1;33m(\u001b[0m\u001b[1;34m'init_notebook.py'\u001b[0m\u001b[1;33m)\u001b[0m\u001b[1;33m.\u001b[0m\u001b[0mread\u001b[0m\u001b[1;33m(\u001b[0m\u001b[1;33m)\u001b[0m\u001b[1;33m)\u001b[0m\u001b[1;33m\u001b[0m\u001b[1;33m\u001b[0m\u001b[0m\n\u001b[0m",
      "\u001b[1;31mFileNotFoundError\u001b[0m: [Errno 2] No such file or directory: 'init_notebook.py'"
     ]
    }
   ],
   "source": [
    "exec(open('init_notebook.py').read())"
   ]
  },
  {
   "cell_type": "code",
   "execution_count": 8,
   "id": "c417175d-b6d5-4633-8432-75420b2c7b14",
   "metadata": {},
   "outputs": [
    {
     "name": "stdout",
     "output_type": "stream",
     "text": [
      "The autoreload extension is already loaded. To reload it, use:\n",
      "  %reload_ext autoreload\n"
     ]
    }
   ],
   "source": [
    "%load_ext autoreload\n",
    "%autoreload 2"
   ]
  },
  {
   "cell_type": "code",
   "execution_count": 9,
   "id": "e4f86248-ca8a-4612-8f70-dc0130b56e0a",
   "metadata": {},
   "outputs": [
    {
     "data": {
      "text/plain": [
       "2"
      ]
     },
     "execution_count": 9,
     "metadata": {},
     "output_type": "execute_result"
    }
   ],
   "source": [
    "import logging\n",
    "logging.basicConfig(level=logging.INFO)\n",
    "from loguru import logger\n",
    "logger.remove()\n",
    "logger.add(sys.stdout, format=\"{level} {message}\", filter=\"my_module\", level=\"INFO\")\n"
   ]
  },
  {
   "cell_type": "markdown",
   "id": "93f6074d-a0dd-4952-8895-c219d8b6c90b",
   "metadata": {},
   "source": [
    "# We have three types of preprocessed data:\n",
    "1. Location (includes everything and is a large pickled file)\n",
    "2. crossing csv (includes only pedestrians)\n",
    "3. other csv (includes all other trajectories)\n",
    "4. SceneData (seperate pickled file for each scene of a location)\n",
    "\n",
    "## 1. Preprocessed Location Data"
   ]
  },
  {
   "cell_type": "code",
   "execution_count": null,
   "id": "bcacf8da-fceb-4d62-9fb4-9c1d789d1d89",
   "metadata": {},
   "outputs": [],
   "source": [
    "from extractors.LocationData import LocationData\n",
    "loc2dataFromFile = LocationData.load(\"../data/location-2\", \"2022-11-13-fps-2.5-all.dill\")"
   ]
  },
  {
   "cell_type": "code",
   "execution_count": null,
   "id": "2add8984-6c12-49a0-a2eb-c90badf475f4",
   "metadata": {},
   "outputs": [],
   "source": [
    "from tools.TrajectoryUtils import TrajectoryUtils\n",
    "from tools.TrajectoryVisualizer import TrajectoryVisualizer\n",
    "import matplotlib.pyplot as plt\n",
    "import numpy as np\n",
    "visualizer = TrajectoryVisualizer(None)"
   ]
  },
  {
   "cell_type": "code",
   "execution_count": null,
   "id": "2220aed9-7cca-4967-b283-b3c5952c20d2",
   "metadata": {},
   "outputs": [],
   "source": [
    "sceneData = loc2dataFromFile.getSceneData(10, 10, 5, refresh=False)\n",
    "visualizer.showLocationSceneData(sceneData, onlyClipped=True, showOthers=True)"
   ]
  },
  {
   "cell_type": "code",
   "execution_count": null,
   "id": "9d9659dc-e8ce-418d-b7f7-d1289d8acd7d",
   "metadata": {},
   "outputs": [],
   "source": [
    "sceneLocalDf = sceneData.getClippedOtherDfs() # others (vehicles, bicycles, trucks)\n",
    "sceneLocalDf.head()"
   ]
  },
  {
   "cell_type": "markdown",
   "id": "4bfc0878-22ea-45ed-91a2-621b98a9548c",
   "metadata": {},
   "source": [
    "## 2 & 3, CSV files of pedestrian and other actor trajectories"
   ]
  },
  {
   "cell_type": "code",
   "execution_count": null,
   "id": "3aebe35d-274a-4bc6-837c-b32f4e833a43",
   "metadata": {},
   "outputs": [],
   "source": [
    "import pandas as pd\n",
    "pedDf = pd.read_csv(\"../data/location-2/2022-11-13-fps-2.5-crossing.csv\")\n",
    "otherDf = pd.read_csv(\"../data/location-2/2022-11-13-fps-2.5-other.csv\")"
   ]
  },
  {
   "cell_type": "code",
   "execution_count": null,
   "id": "7973f3e0-8a93-4be1-9834-07aa38a59219",
   "metadata": {},
   "outputs": [],
   "source": [
    "pedDf.head()"
   ]
  },
  {
   "cell_type": "code",
   "execution_count": null,
   "id": "ae19aeb6-b41f-4c4c-a8d1-97312e85d542",
   "metadata": {},
   "outputs": [],
   "source": [
    "import pandas as pd\n",
    "pedDf = pd.read_csv(\"../data/location-2/2022-11-19-fps-2.5-scene-31-pedestrians.csv\")\n",
    "otherDf = pd.read_csv(\"../data/location-2/2022-11-19-fps-2.5-scene-31-others.csv\")\n",
    "pedDf.head()"
   ]
  },
  {
   "cell_type": "markdown",
   "id": "b8634cfb-a3e3-4a73-b289-5a321d033e37",
   "metadata": {},
   "source": [
    "## 4 Preprocessed Scene Data"
   ]
  },
  {
   "cell_type": "code",
   "execution_count": 10,
   "id": "223ad4ca-cbba-4449-aed2-fe81bf2da819",
   "metadata": {},
   "outputs": [
    {
     "ename": "AttributeError",
     "evalue": "Can't get attribute '_unpickle_block' on <module 'pandas._libs.internals' from 'C:\\\\Users\\\\adhocmaster\\\\.conda\\\\envs\\\\drone\\\\lib\\\\site-packages\\\\pandas\\\\_libs\\\\internals.cp36-win_amd64.pyd'>",
     "output_type": "error",
     "traceback": [
      "\u001b[1;31m---------------------------------------------------------------------------\u001b[0m",
      "\u001b[1;31mAttributeError\u001b[0m                            Traceback (most recent call last)",
      "\u001b[1;32m<ipython-input-10-e42af2670666>\u001b[0m in \u001b[0;36m<module>\u001b[1;34m\u001b[0m\n\u001b[0;32m      1\u001b[0m \u001b[1;32mfrom\u001b[0m \u001b[0mextractors\u001b[0m\u001b[1;33m.\u001b[0m\u001b[0mLocationData\u001b[0m \u001b[1;32mimport\u001b[0m \u001b[0mLocationData\u001b[0m\u001b[1;33m\u001b[0m\u001b[1;33m\u001b[0m\u001b[0m\n\u001b[1;32m----> 2\u001b[1;33m \u001b[0mscene10\u001b[0m \u001b[1;33m=\u001b[0m \u001b[0mLocationData\u001b[0m\u001b[1;33m.\u001b[0m\u001b[0mload\u001b[0m\u001b[1;33m(\u001b[0m\u001b[1;34m\"../data/location-2\"\u001b[0m\u001b[1;33m,\u001b[0m \u001b[1;34m\"2022-12-07-fps-5-scene-20.dll\"\u001b[0m\u001b[1;33m)\u001b[0m\u001b[1;33m\u001b[0m\u001b[1;33m\u001b[0m\u001b[0m\n\u001b[0m\u001b[0;32m      3\u001b[0m \u001b[0mscene10\u001b[0m\u001b[1;33m.\u001b[0m\u001b[0mbackgroundImagePath\u001b[0m \u001b[1;33m=\u001b[0m \u001b[1;34m\"G:AV datasets/inD-dataset-v1.0/data/18_background.png\"\u001b[0m\u001b[1;33m\u001b[0m\u001b[1;33m\u001b[0m\u001b[0m\n\u001b[0;32m      4\u001b[0m \u001b[0mscene10\u001b[0m\u001b[1;33m.\u001b[0m\u001b[0msceneConfig\u001b[0m\u001b[1;33m\u001b[0m\u001b[1;33m\u001b[0m\u001b[0m\n\u001b[0;32m      5\u001b[0m \u001b[0mscene10\u001b[0m\u001b[1;33m.\u001b[0m\u001b[0morthoPxToMeter\u001b[0m\u001b[1;33m\u001b[0m\u001b[1;33m\u001b[0m\u001b[0m\n",
      "\u001b[1;32mE:\\AV\\DataSetExploration\\drone-dataset-tools\\src\\extractors\\LocationData.py\u001b[0m in \u001b[0;36mload\u001b[1;34m(locDir, fname)\u001b[0m\n\u001b[0;32m    486\u001b[0m         \u001b[0mlogger\u001b[0m\u001b[1;33m.\u001b[0m\u001b[0minfo\u001b[0m\u001b[1;33m(\u001b[0m\u001b[1;34mf\"reading from {fpath}\"\u001b[0m\u001b[1;33m)\u001b[0m\u001b[1;33m\u001b[0m\u001b[1;33m\u001b[0m\u001b[0m\n\u001b[0;32m    487\u001b[0m         \u001b[1;32mwith\u001b[0m \u001b[0mopen\u001b[0m\u001b[1;33m(\u001b[0m\u001b[0mfpath\u001b[0m\u001b[1;33m,\u001b[0m \u001b[1;34m\"rb\"\u001b[0m\u001b[1;33m)\u001b[0m \u001b[1;32mas\u001b[0m \u001b[0mfp\u001b[0m\u001b[1;33m:\u001b[0m\u001b[1;33m\u001b[0m\u001b[1;33m\u001b[0m\u001b[0m\n\u001b[1;32m--> 488\u001b[1;33m             \u001b[1;32mreturn\u001b[0m \u001b[0mload\u001b[0m\u001b[1;33m(\u001b[0m\u001b[0mfp\u001b[0m\u001b[1;33m)\u001b[0m\u001b[1;33m\u001b[0m\u001b[1;33m\u001b[0m\u001b[0m\n\u001b[0m\u001b[0;32m    489\u001b[0m     \u001b[1;31m# endregion\u001b[0m\u001b[1;33m\u001b[0m\u001b[1;33m\u001b[0m\u001b[1;33m\u001b[0m\u001b[0m\n",
      "\u001b[1;32m~\\.conda\\envs\\drone\\lib\\site-packages\\dill\\_dill.py\u001b[0m in \u001b[0;36mload\u001b[1;34m(file, ignore, **kwds)\u001b[0m\n\u001b[0;32m    371\u001b[0m     \u001b[0mSee\u001b[0m \u001b[1;33m:\u001b[0m\u001b[0mfunc\u001b[0m\u001b[1;33m:\u001b[0m\u001b[0;31m`\u001b[0m\u001b[0mloads\u001b[0m\u001b[0;31m`\u001b[0m \u001b[1;32mfor\u001b[0m \u001b[0mkeyword\u001b[0m \u001b[0marguments\u001b[0m\u001b[1;33m.\u001b[0m\u001b[1;33m\u001b[0m\u001b[1;33m\u001b[0m\u001b[0m\n\u001b[0;32m    372\u001b[0m     \"\"\"\n\u001b[1;32m--> 373\u001b[1;33m     \u001b[1;32mreturn\u001b[0m \u001b[0mUnpickler\u001b[0m\u001b[1;33m(\u001b[0m\u001b[0mfile\u001b[0m\u001b[1;33m,\u001b[0m \u001b[0mignore\u001b[0m\u001b[1;33m=\u001b[0m\u001b[0mignore\u001b[0m\u001b[1;33m,\u001b[0m \u001b[1;33m**\u001b[0m\u001b[0mkwds\u001b[0m\u001b[1;33m)\u001b[0m\u001b[1;33m.\u001b[0m\u001b[0mload\u001b[0m\u001b[1;33m(\u001b[0m\u001b[1;33m)\u001b[0m\u001b[1;33m\u001b[0m\u001b[1;33m\u001b[0m\u001b[0m\n\u001b[0m\u001b[0;32m    374\u001b[0m \u001b[1;33m\u001b[0m\u001b[0m\n\u001b[0;32m    375\u001b[0m \u001b[1;32mdef\u001b[0m \u001b[0mloads\u001b[0m\u001b[1;33m(\u001b[0m\u001b[0mstr\u001b[0m\u001b[1;33m,\u001b[0m \u001b[0mignore\u001b[0m\u001b[1;33m=\u001b[0m\u001b[1;32mNone\u001b[0m\u001b[1;33m,\u001b[0m \u001b[1;33m**\u001b[0m\u001b[0mkwds\u001b[0m\u001b[1;33m)\u001b[0m\u001b[1;33m:\u001b[0m\u001b[1;33m\u001b[0m\u001b[1;33m\u001b[0m\u001b[0m\n",
      "\u001b[1;32m~\\.conda\\envs\\drone\\lib\\site-packages\\dill\\_dill.py\u001b[0m in \u001b[0;36mload\u001b[1;34m(self)\u001b[0m\n\u001b[0;32m    644\u001b[0m \u001b[1;33m\u001b[0m\u001b[0m\n\u001b[0;32m    645\u001b[0m     \u001b[1;32mdef\u001b[0m \u001b[0mload\u001b[0m\u001b[1;33m(\u001b[0m\u001b[0mself\u001b[0m\u001b[1;33m)\u001b[0m\u001b[1;33m:\u001b[0m \u001b[1;31m#NOTE: if settings change, need to update attributes\u001b[0m\u001b[1;33m\u001b[0m\u001b[1;33m\u001b[0m\u001b[0m\n\u001b[1;32m--> 646\u001b[1;33m         \u001b[0mobj\u001b[0m \u001b[1;33m=\u001b[0m \u001b[0mStockUnpickler\u001b[0m\u001b[1;33m.\u001b[0m\u001b[0mload\u001b[0m\u001b[1;33m(\u001b[0m\u001b[0mself\u001b[0m\u001b[1;33m)\u001b[0m\u001b[1;33m\u001b[0m\u001b[1;33m\u001b[0m\u001b[0m\n\u001b[0m\u001b[0;32m    647\u001b[0m         \u001b[1;32mif\u001b[0m \u001b[0mtype\u001b[0m\u001b[1;33m(\u001b[0m\u001b[0mobj\u001b[0m\u001b[1;33m)\u001b[0m\u001b[1;33m.\u001b[0m\u001b[0m__module__\u001b[0m \u001b[1;33m==\u001b[0m \u001b[0mgetattr\u001b[0m\u001b[1;33m(\u001b[0m\u001b[0m_main_module\u001b[0m\u001b[1;33m,\u001b[0m \u001b[1;34m'__name__'\u001b[0m\u001b[1;33m,\u001b[0m \u001b[1;34m'__main__'\u001b[0m\u001b[1;33m)\u001b[0m\u001b[1;33m:\u001b[0m\u001b[1;33m\u001b[0m\u001b[1;33m\u001b[0m\u001b[0m\n\u001b[0;32m    648\u001b[0m             \u001b[1;32mif\u001b[0m \u001b[1;32mnot\u001b[0m \u001b[0mself\u001b[0m\u001b[1;33m.\u001b[0m\u001b[0m_ignore\u001b[0m\u001b[1;33m:\u001b[0m\u001b[1;33m\u001b[0m\u001b[1;33m\u001b[0m\u001b[0m\n",
      "\u001b[1;32m~\\.conda\\envs\\drone\\lib\\site-packages\\dill\\_dill.py\u001b[0m in \u001b[0;36mfind_class\u001b[1;34m(self, module, name)\u001b[0m\n\u001b[0;32m    634\u001b[0m             \u001b[1;32mreturn\u001b[0m \u001b[0mtype\u001b[0m\u001b[1;33m(\u001b[0m\u001b[1;32mNone\u001b[0m\u001b[1;33m)\u001b[0m \u001b[1;31m#XXX: special case: NoneType missing\u001b[0m\u001b[1;33m\u001b[0m\u001b[1;33m\u001b[0m\u001b[0m\n\u001b[0;32m    635\u001b[0m         \u001b[1;32mif\u001b[0m \u001b[0mmodule\u001b[0m \u001b[1;33m==\u001b[0m \u001b[1;34m'dill.dill'\u001b[0m\u001b[1;33m:\u001b[0m \u001b[0mmodule\u001b[0m \u001b[1;33m=\u001b[0m \u001b[1;34m'dill._dill'\u001b[0m\u001b[1;33m\u001b[0m\u001b[1;33m\u001b[0m\u001b[0m\n\u001b[1;32m--> 636\u001b[1;33m         \u001b[1;32mreturn\u001b[0m \u001b[0mStockUnpickler\u001b[0m\u001b[1;33m.\u001b[0m\u001b[0mfind_class\u001b[0m\u001b[1;33m(\u001b[0m\u001b[0mself\u001b[0m\u001b[1;33m,\u001b[0m \u001b[0mmodule\u001b[0m\u001b[1;33m,\u001b[0m \u001b[0mname\u001b[0m\u001b[1;33m)\u001b[0m\u001b[1;33m\u001b[0m\u001b[1;33m\u001b[0m\u001b[0m\n\u001b[0m\u001b[0;32m    637\u001b[0m \u001b[1;33m\u001b[0m\u001b[0m\n\u001b[0;32m    638\u001b[0m     \u001b[1;32mdef\u001b[0m \u001b[0m__init__\u001b[0m\u001b[1;33m(\u001b[0m\u001b[0mself\u001b[0m\u001b[1;33m,\u001b[0m \u001b[1;33m*\u001b[0m\u001b[0margs\u001b[0m\u001b[1;33m,\u001b[0m \u001b[1;33m**\u001b[0m\u001b[0mkwds\u001b[0m\u001b[1;33m)\u001b[0m\u001b[1;33m:\u001b[0m\u001b[1;33m\u001b[0m\u001b[1;33m\u001b[0m\u001b[0m\n",
      "\u001b[1;31mAttributeError\u001b[0m: Can't get attribute '_unpickle_block' on <module 'pandas._libs.internals' from 'C:\\\\Users\\\\adhocmaster\\\\.conda\\\\envs\\\\drone\\\\lib\\\\site-packages\\\\pandas\\\\_libs\\\\internals.cp36-win_amd64.pyd'>"
     ]
    }
   ],
   "source": [
    "from extractors.LocationData import LocationData\n",
    "# scene10 = LocationData.load(\"../data/location-2\", \"2022-12-07-fps-5-scene-20.dll\")\n",
    "# scene10.backgroundImagePath = \"G:AV datasets/inD-dataset-v1.0/data/18_background.png\"\n",
    "# scene10.sceneConfig\n",
    "# scene10.orthoPxToMeter"
   ]
  },
  {
   "cell_type": "code",
   "execution_count": null,
   "id": "b19bbff7-c6c8-4d16-8f2f-98292d5a4ad7",
   "metadata": {},
   "outputs": [],
   "source": [
    "import pandas as pd\n",
    "pedDf = pd.read_csv(\"../data/location-2/2022-12-07-fps-5-scene-20-pedestrians.csv\")\n",
    "otherDf = pd.read_csv(\"../data/location-2/2022-11-13-fps-2.5-other.csv\")"
   ]
  },
  {
   "cell_type": "code",
   "execution_count": null,
   "id": "83c7959c-939e-4f15-9b61-7e368228be8f",
   "metadata": {},
   "outputs": [],
   "source": [
    "\n",
    "visualizer.showLocationSceneData(scene10, onlyClipped=False, showOthers=False)"
   ]
  },
  {
   "cell_type": "code",
   "execution_count": null,
   "id": "3bd88c73-628c-4c03-ab8e-08049d03897e",
   "metadata": {},
   "outputs": [],
   "source": []
  }
 ],
 "metadata": {
  "kernelspec": {
   "display_name": "Python 3",
   "language": "python",
   "name": "python3"
  },
  "language_info": {
   "codemirror_mode": {
    "name": "ipython",
    "version": 3
   },
   "file_extension": ".py",
   "mimetype": "text/x-python",
   "name": "python",
   "nbconvert_exporter": "python",
   "pygments_lexer": "ipython3",
   "version": "3.6.15"
  }
 },
 "nbformat": 4,
 "nbformat_minor": 5
}
